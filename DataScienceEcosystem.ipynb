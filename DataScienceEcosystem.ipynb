{
 "cells": [
  {
   "cell_type": "markdown",
   "id": "8ddfe654-f952-4c3c-953f-9892aa1435be",
   "metadata": {
    "tags": []
   },
   "source": [
    "# Data Science Tools and Ecosystem"
   ]
  },
  {
   "cell_type": "markdown",
   "id": "d18227da-9bea-4d8f-932a-541b788892d4",
   "metadata": {
    "tags": []
   },
   "source": [
    "## In this notebook, Data Science Tools and Ecosystem are summarized."
   ]
  },
  {
   "cell_type": "code",
   "execution_count": null,
   "id": "a71731ad-16a7-4a62-b92b-a4dcca9ad24d",
   "metadata": {
    "tags": []
   },
   "outputs": [],
   "source": [
    "**Objectives:**\n",
    "\n",
    "* **Objective 1**: [Popular Languages]\n",
    "* **Objective 2**: [Libraries]\n",
    "* **Objective 3**: [Simple Arithmetic Expression]"
   ]
  },
  {
   "cell_type": "markdown",
   "id": "92abc255-441f-4b0e-a9d5-843fd2f88cb8",
   "metadata": {},
   "source": [
    "Some of the popular languages that Data Scientists use are:\n",
    "\n",
    "1. Python\n",
    "2. R\n",
    "3. Scala\n",
    "4. SQL\n",
    "5. JULIA"
   ]
  },
  {
   "cell_type": "markdown",
   "id": "3b0c2078-27be-4abb-8ba6-0fa962dd9073",
   "metadata": {},
   "source": [
    "Some of the commonly used libraries used by Data Scientists include:\n",
    "1. NumPy\n",
    "2. Pandas\n",
    "3. Plotly\n",
    "4. Scrapy"
   ]
  },
  {
   "cell_type": "markdown",
   "id": "8baa7d24-1c25-4a44-a532-5aa90f299907",
   "metadata": {
    "tags": []
   },
   "source": [
    "Some of the commonly used libraries used by Data Scientists include:\n",
    "| Data Science Tools |\n",
    ":--\n",
    "| Jupyter Notebook |\n",
    "| RStudio |\n",
    "| VS Code |"
   ]
  },
  {
   "cell_type": "markdown",
   "id": "44018149-56e1-4a82-b918-24e43f028490",
   "metadata": {},
   "source": [
    "### Below are a few examples of evaluating arithmetic expressions in Python."
   ]
  },
  {
   "cell_type": "code",
   "execution_count": 17,
   "id": "85931018-d507-4591-ae88-c5575be290a8",
   "metadata": {
    "tags": []
   },
   "outputs": [
    {
     "name": "stdout",
     "output_type": "stream",
     "text": [
      "17\n"
     ]
    }
   ],
   "source": [
    "# This a simple arithmetic expression to mutiply then add integers.\n",
    "\n",
    "num1 = 3\n",
    "num2 = 4\n",
    "\n",
    "# Multiply num1 and num2\n",
    "product = num1 * num2\n",
    "\n",
    "# Add a constant value to the product\n",
    "result = product + 5\n",
    "\n",
    "print(result)"
   ]
  },
  {
   "cell_type": "code",
   "execution_count": 23,
   "id": "33e27062-34d2-4fd3-8891-24e867948dba",
   "metadata": {
    "tags": []
   },
   "outputs": [
    {
     "name": "stdout",
     "output_type": "stream",
     "text": [
      "3 hours and 20 minutes\n"
     ]
    }
   ],
   "source": [
    "# This will convert 200 minutes to hours by diving by 60\n",
    "\n",
    "def minutes_to_hours(minutes):\n",
    "    hours = minutes // 60\n",
    "    minutes_left = minutes % 60\n",
    "    return hours, minutes_left\n",
    "\n",
    "# Test the function\n",
    "minutes = 200\n",
    "hours, minutes_left = minutes_to_hours(minutes)\n",
    "print(f\"{hours} hours and {minutes_left} minutes\")"
   ]
  },
  {
   "cell_type": "markdown",
   "id": "254b6152-818a-4463-8919-7030956aa0f3",
   "metadata": {},
   "source": [
    "## Author \n",
    "Edwing David Couceiro Osorio"
   ]
  },
  {
   "cell_type": "code",
   "execution_count": null,
   "id": "ab48d50a-9575-4a18-afcc-ad3c447368a7",
   "metadata": {},
   "outputs": [],
   "source": []
  }
 ],
 "metadata": {
  "kernelspec": {
   "display_name": "Python",
   "language": "python",
   "name": "conda-env-python-py"
  },
  "language_info": {
   "codemirror_mode": {
    "name": "ipython",
    "version": 3
   },
   "file_extension": ".py",
   "mimetype": "text/x-python",
   "name": "python",
   "nbconvert_exporter": "python",
   "pygments_lexer": "ipython3",
   "version": "3.7.12"
  }
 },
 "nbformat": 4,
 "nbformat_minor": 5
}
